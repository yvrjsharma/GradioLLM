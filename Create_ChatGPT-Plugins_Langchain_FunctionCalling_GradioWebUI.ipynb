{
  "cells": [
    {
      "cell_type": "markdown",
      "metadata": {
        "id": "view-in-github",
        "colab_type": "text"
      },
      "source": [
        "<a href=\"https://colab.research.google.com/github/yvrjsharma/GradioLLM/blob/main/Create_ChatGPT-Plugins_Langchain_FunctionCalling_GradioWebUI.ipynb\" target=\"_parent\"><img src=\"https://colab.research.google.com/assets/colab-badge.svg\" alt=\"Open In Colab\"/></a>"
      ]
    },
    {
      "cell_type": "markdown",
      "metadata": {
        "id": "zFU8WkrviNjU"
      },
      "source": [
        "# **Build Your Own 🧩Plugins enabled ChatGPT WebUI - using 🚀Langchain & Gradio**"
      ]
    },
    {
      "cell_type": "markdown",
      "source": [
        "## Gradio and Langchain - Powering LLM apps together !\n",
        "\n",
        "How does a Language Model like GPT makes discerning choices regarding which plugins to run? Well, this is done using the Language Model as a reasoning agent and allowing it to assess and process information intelligently.<br><br>\n",
        "- <b>Langchain & OpenAI Function Calling</b>: AI models like gpt-3.5-turbo-0613 and gpt-4-0613, are designed to identify when and how to activate functions through API calls. These function-specific APIs generate a JSON object with necessary arguments, aiming to surpass the efficacy of traditional chat or text completion APIs.<br><br>\n",
        "- <b>Gradio Chatbots</b>: Gradio provides super easy way to build Chatbot UI. Refer our <a href=\"https://gradio.app/docs/#chatbot\" target=\"_blank\">Docs</a>. Using Langchain's OpenAI Functions Agent you can create chatbots designed to respond to queries by communicating with external APIs. The API responses are fed back to the Language Model for processing and a new response is generated for the user.The versatility of using Gradio to build LLM applications is immense. FOr example, in this Gradio app, you can have an array of Plugins based on functions which are tailored for various purposes (image, video, audio, text generation, utilities etc). This enhancing the breadth and depth of interactions with your Language Model.\n"
      ],
      "metadata": {
        "id": "OVccDskeoyuc"
      }
    },
    {
      "cell_type": "markdown",
      "source": [
        "## How to use the Langchain ChatGPT-Plugin WebUI?\n",
        "\n",
        "Welcome to the <b>ChatGPT-Plugins WebUI</b>, built using Gradio and Langchain! This interactive gradio chatbot uses the GPT3.5-turbo-0613 model from OpenAI and boasts the ability to USE, as well as BUILD Custom Plugins to enhance your chatbot experience.\n",
        "<br>Here’s a quick guide for you to get you started:<br><br>\n",
        "<b>To get Started</b>: Simply type your messages in the textbox to chat with ChatGPT and press enter!<br><br>\n",
        "<b>How to use Plugins</b>: Plugins are provided as checkboxes. If you want to try out a plugin just select that checkbox<br><br>\n",
        "- <b>DIFFUSERS PLUGIN:</b><br>\n",
        "<b>What it does:</b> Generates images based on your text prompt.<br>\n",
        "<b>How to use:</b> Type a prompt for the image you want to generate, and the Diffusers plugin will create it for you.<br>\n",
        "<b>Example input:</b> \"Generate an image of a sunset over the mountains.\"<br><br>\n",
        "- <b>IMAGE CAPTION PLUGIN:</b><br>\n",
        "<b>What it does:</b> Describes images that you upload.<br>\n",
        "<b>How to use:</b> Upload an image using the 'Upload' button. Ask ChatGPT to describe the image make sure to mention the image name to it.<br>\n",
        "<b>Example input:</b> \"Describe the image cat2.jpg.\"<br><br>\n",
        "- <b>NEWS PLUGIN:</b><br>\n",
        "<b>What it does:</b> Provides the top 3 news articles based on your search query.<br>\n",
        "<b>How to use:</b> Just type in a search query and the NewsAPI plugin will present the top 3 news based on relevance.<br>\n",
        "<b>Example input:</b> \"Show me the top news about space exploration.\"<br><br>\n",
        "- <b>SEARCH PLUGIN:</b><br>\n",
        "<b>What it does:</b> Searches internet for your queries. Now you don;t need to limit yourself to a knowledge cut-off of 2021<br>\n",
        "<b>How to use:</b> Type in a user message in the chatbot. Google Search plugin will search the internet and present a concise resuklt for you like magic!<br>\n",
        "<b>Example input:</b> \"Who is the current girlfriend of Leonardo Di Caprio.\"<br><br>\n",
        "- <b>BORED API PLUGIN:</b><br>\n",
        "<b>What it does:</b> Suggests you activities of different types.<br>\n",
        "<b>How to use:</b> Mention that you are bored and want some activities to do or simply ask to generate an activity.<br>\n",
        "<b>Example input:</b> \"Can you suggest me something to do, I am totally bored.\"<br><br>\n",
        "Access Generated Content: Find all generated images in the Gradio Files component located below the input textbox.<br><br>\n",
        "Have Fun!: Explore and enjoy the versatile features of this <b>ChatGPT-Plugin WebUI</b>.<br>\n",
        "Now you’re all set to make the most of this ChatGPT demo. Happy chatting!"
      ],
      "metadata": {
        "id": "7k6N6Dniodxn"
      }
    },
    {
      "cell_type": "markdown",
      "metadata": {
        "id": "bXxKxpxpOWTA"
      },
      "source": [
        "## Function Calling in GPT4\n",
        "\n",
        "OpenAI has released two new models, `gpt-3.5-turbo-0613` and `gpt-4-0613`. Both models support  a new feature called **function calling** to the API.\n",
        "\n",
        "Function Calling: We describe our functions to GPT4/3.5 in a particular json template. This allows the model to identify if it needs to use these functions to fulfill user requests. This makes it super easy to build chatplugins for them. The model returns a JSON object in response to a user input. This json object would contain the arguments needed to call the function.\n",
        "\n"
      ]
    },
    {
      "cell_type": "code",
      "execution_count": 1,
      "metadata": {
        "id": "GpW9KI8mPMeb"
      },
      "outputs": [],
      "source": [
        "# Install the main libraries\n",
        "!pip install -qU openai gradio langchain"
      ]
    },
    {
      "cell_type": "markdown",
      "metadata": {
        "id": "VreeY6Ar0ijB"
      },
      "source": [
        "Get NewsAPI Key for yourself by visiting here - [NewsAPI](https://newsapi.org)"
      ]
    },
    {
      "cell_type": "code",
      "source": [
        "# Install libraries for Plugins\n",
        "!pip install google-search-results newsapi-python --q"
      ],
      "metadata": {
        "id": "gs1pImN_9maD"
      },
      "execution_count": 2,
      "outputs": []
    },
    {
      "cell_type": "code",
      "execution_count": 3,
      "metadata": {
        "id": "lvG6TQEU_oBF"
      },
      "outputs": [],
      "source": [
        "import os\n",
        "import openai\n",
        "import gradio as gr\n",
        "import json\n",
        "import requests\n",
        "import shutil\n",
        "import random\n",
        "import time\n",
        "\n",
        "from gradio_client import Client\n",
        "from newsapi import NewsApiClient\n",
        "\n",
        "from PIL import Image\n",
        "import matplotlib.pyplot as plt\n",
        "\n",
        "# import all defined functions, their definitions and a dictionary\n",
        "from gpt_function_definitions import generate_image, generate_caption, get_news, bored_api\n",
        "\n",
        "#OpenaI Chat Completions endpoint\n",
        "API_URL = \"https://api.openai.com/v1/chat/completions\" #os.getenv(\"API_URL\") + \"/generate_stream\"\n"
      ]
    },
    {
      "cell_type": "code",
      "execution_count": 4,
      "metadata": {
        "id": "QcvbbqUtx0tb"
      },
      "outputs": [],
      "source": [
        "# Import things that are needed generically from langchain\n",
        "from langchain import LLMMathChain, SerpAPIWrapper\n",
        "from langchain.agents import AgentType, initialize_agent, load_tools\n",
        "from langchain.chat_models import ChatOpenAI\n",
        "from langchain.tools import BaseTool, StructuredTool, Tool, tool\n",
        "from langchain.tools import MoveFileTool, format_tool_to_openai_function\n",
        "from langchain.schema import (\n",
        "    AIMessage,\n",
        "    HumanMessage,\n",
        "    SystemMessage\n",
        ")\n",
        "from langchain.utilities import WikipediaAPIWrapper\n",
        "from langchain.tools import AIPluginTool"
      ]
    },
    {
      "cell_type": "code",
      "execution_count": 5,
      "metadata": {
        "id": "UIrwUsms9dd5"
      },
      "outputs": [],
      "source": [
        "# Get the value of the openai_api_key from environment variable\n",
        "os.environ['OPENAI_API_KEY'] = \"sk-...\"\n",
        "openai.api_key = os.getenv(\"OPENAI_API_KEY\")\n",
        "\n",
        "os.environ['SERPAPI_API_KEY'] = \"...\"\n",
        "search = SerpAPIWrapper()\n"
      ]
    },
    {
      "cell_type": "code",
      "execution_count": 6,
      "metadata": {
        "colab": {
          "base_uri": "https://localhost:8080/"
        },
        "id": "HRepEn5X_kTu",
        "outputId": "deb0841b-f778-4f60-b373-e6ac552452a5"
      },
      "outputs": [
        {
          "output_type": "stream",
          "name": "stdout",
          "text": [
            "{\n",
            "  \"role\": \"assistant\",\n",
            "  \"content\": \"Hello! How can I assist you today?\"\n",
            "}\n"
          ]
        }
      ],
      "source": [
        "# Testing\n",
        "\n",
        "completion = openai.ChatCompletion.create(\n",
        "  model=\"gpt-3.5-turbo-0613\",\n",
        "  messages=[\n",
        "    {\"role\": \"system\", \"content\": \"You are a helpful assistant.\"},\n",
        "    {\"role\": \"user\", \"content\": \"Hello!\"}\n",
        "  ]\n",
        ")\n",
        "\n",
        "print(completion.choices[0].message)\n"
      ]
    },
    {
      "cell_type": "markdown",
      "metadata": {
        "id": "KqGRkspyAiJ1"
      },
      "source": [
        "# Langchain"
      ]
    },
    {
      "cell_type": "markdown",
      "metadata": {
        "id": "GTtdQPKftlrv"
      },
      "source": [
        "## creating tools"
      ]
    },
    {
      "cell_type": "code",
      "execution_count": 7,
      "metadata": {
        "id": "1Jm-277xzOg_"
      },
      "outputs": [],
      "source": [
        "# Load the tool configs that are needed.\n",
        "# Langchain 'Tool' dataclass wraps functions that accept a single string input and returns a string output.\n",
        "tools = [\n",
        "    #image generation\n",
        "    Tool.from_function(\n",
        "        func=generate_image,\n",
        "        name=\"generate_image\",\n",
        "        description=\"generate an image based on the prompt provided\"\n",
        "        # coroutine= ... <- you can specify an async method if desired as well\n",
        "    ),\n",
        "\n",
        "    # Describe an image\n",
        "    Tool.from_function(\n",
        "        func=generate_caption,\n",
        "        name=\"generate_caption\",\n",
        "        description=\"generate caption for the image present at the filepath provided\"\n",
        "        # coroutine= ... <- you can specify an async method if desired as well\n",
        "    ),\n",
        "\n",
        "    # Get lattest top news\n",
        "    Tool.from_function(\n",
        "        func=get_news,\n",
        "        name=\"get_news\",\n",
        "        description=\"get top three engilsh news items for a given query, sorted by relevancy\"\n",
        "        # coroutine= ... <- you can specify an async method if desired as well\n",
        "    ),\n",
        "\n",
        "    # Search the web using Google search\n",
        "    Tool.from_function(\n",
        "        func=search.run,\n",
        "        name=\"Search\",\n",
        "        description=\"useful for when you need to answer questions about current events\"\n",
        "        # coroutine= ... <- you can specify an async method if desired as well\n",
        "    ),\n",
        "\n",
        "    #The Bored API\n",
        "    Tool.from_function(\n",
        "    func=bored_api,\n",
        "    name=\"bored_api\",\n",
        "    description=\"Get a random activity to do based on the activity type\"\n",
        "    # coroutine= ... <- you can specify an async method if desired as well\n",
        "    ),\n",
        "    ]"
      ]
    },
    {
      "cell_type": "markdown",
      "metadata": {
        "id": "2zcrZI2cQAoH"
      },
      "source": [
        "## Using Langchain to create a ChatGPT clone"
      ]
    },
    {
      "cell_type": "code",
      "execution_count": 8,
      "metadata": {
        "id": "cjs5H44qrBt4"
      },
      "outputs": [],
      "source": [
        "# Handling Plugin converations\n",
        "def run_conversation(user_input, plugins, tools, chat):\n",
        "\n",
        "    print(f\"Plugins are - {plugins}\")\n",
        "    print(f\"Total available PLUGINS/Tools are - {tools}\")\n",
        "\n",
        "    # Load the tool configs that are needed.\n",
        "    tools = [val for val, flag in zip(tools, plugins) if flag]\n",
        "    print(f\"PLUGINS/Tools enabled in this run are - {tools}\")\n",
        "\n",
        "    try:\n",
        "        # defining agents using tools and openai functions\n",
        "        agent = initialize_agent(tools, chat, agent=AgentType.OPENAI_FUNCTIONS, verbose=True)\n",
        "\n",
        "        # calling the agent\n",
        "        function_response = agent.run(user_input)\n",
        "        print(f\"function_response is - {function_response}\")\n",
        "\n",
        "        image_file_extns = ['.png', '.jpg', '.gif', '.tiff', '.tif', '.svg', '.bmp']\n",
        "        literal_terms = ['caption', 'captions']\n",
        "        if any(extn in function_response for extn in image_file_extns) and not any(term in function_response for term in literal_terms) :\n",
        "            image_file = function_response.replace('sandbox:',\"\").split('(')[-1].split(')')[0]\n",
        "            print(f\"image_file is -{image_file}\")\n",
        "            return function_response, image_file\n",
        "\n",
        "        return function_response, None\n",
        "\n",
        "    except Exception as e:\n",
        "        print(f\"An error occured while calling agents using 'Function Calling': {e}\")\n",
        "        return None, None\n",
        "\n"
      ]
    },
    {
      "cell_type": "code",
      "execution_count": 9,
      "metadata": {
        "id": "ayIRzCXPSZH0"
      },
      "outputs": [],
      "source": [
        "# Setting up a system message for our Chatbot\n",
        "system = SystemMessage(content = \"You are a helpful AI assistant\") # that translates English to Pirate English.\")\n",
        "\n",
        "# driver\n",
        "def predict(user_input, temperature, stable_diff, image_cap, top_news, google_search, bored, file_output, chatbot):\n",
        "\n",
        "    print(f\"chatbot - {chatbot}\")\n",
        "    print(f\"user_input - {user_input}\")\n",
        "\n",
        "    # file handling\n",
        "    print(f\"Logging: files in the file directory is -{file_output}\")\n",
        "    if file_output is not None:\n",
        "      files_avail =  [f.name for f in file_output ]\n",
        "      print(f\"files_available are -{files_avail} \")\n",
        "    else:\n",
        "      print(\"No files available at the moment!\")\n",
        "\n",
        "\n",
        "    chat = ChatOpenAI(\n",
        "    #openai_api_key=openai_api_key,\n",
        "    temperature=temperature, #1.0\n",
        "    streaming=True,\n",
        "    model='gpt-3.5-turbo-0613')\n",
        "    messages = [system]\n",
        "    # image, caption, news, serach\n",
        "    plugins = [stable_diff, image_cap, top_news, google_search, bored]\n",
        "    function_call_decision = True if any(plugins) else False\n",
        "\n",
        "    if len(chatbot) != 0:\n",
        "        for conv in chatbot:\n",
        "            human = HumanMessage(content=conv[0])\n",
        "            ai = AIMessage(content=conv[1])\n",
        "            messages.append(human)\n",
        "            messages.append(ai)\n",
        "        messages.append(HumanMessage(content=user_input))\n",
        "        print(f\"messages list is - {messages}\")\n",
        "\n",
        "        if function_call_decision:\n",
        "            # getting openAI function agent reponse\n",
        "            function_response, image_file = run_conversation(user_input, plugins, tools, chat)\n",
        "            if function_response is not None:\n",
        "                gpt_response = AIMessage(content= function_response)\n",
        "                bot_message = gpt_response.content\n",
        "                print(f\"bot_message - {bot_message}\")\n",
        "                chatbot.append((user_input, bot_message))\n",
        "                return \"\", chatbot, image_file\n",
        "    else: # for first user message\n",
        "        messages.append(HumanMessage(content=user_input))\n",
        "        print(f\"messages list is - {messages}\")\n",
        "\n",
        "        if function_call_decision:\n",
        "            # getting openAI function agent reponse\n",
        "            function_response, image_file = run_conversation(user_input, plugins, tools, chat)\n",
        "            if function_response is not None:\n",
        "                gpt_response = AIMessage(content= function_response)\n",
        "                bot_message = gpt_response.content\n",
        "                print(f\"bot_message - {bot_message}\")\n",
        "                chatbot.append((user_input, bot_message))\n",
        "                return \"\", chatbot, image_file\n",
        "\n",
        "    # getting gpt3.5's response\n",
        "    gpt_response = chat(messages)\n",
        "    print(f\"gpt_response - {gpt_response}\")\n",
        "    bot_message = gpt_response.content\n",
        "    print(f\"bot_message - {bot_message}\")\n",
        "\n",
        "    chatbot.append((user_input, bot_message))\n",
        "\n",
        "    return \"\", chatbot, None #\"\", chatbot\n",
        "\n"
      ]
    },
    {
      "cell_type": "code",
      "execution_count": 10,
      "metadata": {
        "id": "G3i3eZo2JVaA"
      },
      "outputs": [],
      "source": [
        "# What is happening with function calling, langchain, and Gradio\n",
        "messaging = \"\"\"\n",
        "How does a Language Model like GPT makes discerning choices regarding which plugins to run? Well, this is done using the Language Model as a reasoning agent and allowing it to assess and process information intelligently.<br><br>\n",
        "- <b>Langchain & OpenAI Function Calling</b>: AI models like gpt-3.5-turbo-0613 and gpt-4-0613, are designed to identify when and how to activate functions through API calls. These function-specific APIs generate a JSON object with necessary arguments, aiming to surpass the efficacy of traditional chat or text completion APIs.<br><br>\n",
        "- <b>Gradio Chatbots</b>: Gradio provides super easy way to build Chatbot UI. Refer our <a href=\"https://gradio.app/docs/#chatbot\" target=\"_blank\">Docs</a>. Using Langchain's OpenAI Functions Agent you can create chatbots designed to respond to queries by communicating with external APIs. The API responses are fed back to the Language Model for processing and a new response is generated for the user.The versatility of using Gradio to build LLM applications is immense. FOr example, in this Gradio app, you can have an array of Plugins based on functions which are tailored for various purposes (image, video, audio, text generation, utilities etc). This enhancing the breadth and depth of interactions with your Language Model.\n",
        "\"\"\""
      ]
    },
    {
      "cell_type": "code",
      "execution_count": 11,
      "metadata": {
        "id": "BPyXCapL1x4B"
      },
      "outputs": [],
      "source": [
        "# Helper functions for file handling\n",
        "def add_image(file_to_save, file_output):\n",
        "    print(f\"image file_to_save is - {file_to_save}\")\n",
        "    print(f\"files available in directory are -{file_output}\")\n",
        "\n",
        "    if file_output is not None:\n",
        "      file_output = [f.name for f in file_output]\n",
        "    if file_to_save is None:\n",
        "      return file_output\n",
        "    file_output = [file_to_save] if file_output is None else file_output + [file_to_save]\n",
        "    print(f\"Logging: Updated file directory - {file_output}\")\n",
        "    return file_output #gr.update(value=\"dog1.jpg\")\n",
        "\n",
        "def add_audio(file_to_save, file_output):\n",
        "    print(f\"audio file_to_save is - {file_to_save}\")\n",
        "    print(f\"files available in directory are -{file_output}\")\n",
        "\n",
        "    if file_output is not None:\n",
        "      file_output = [f.name for f in file_output]\n",
        "    if file_to_save is None:\n",
        "      return file_output\n",
        "    file_output = [file_to_save] if file_output is None else file_output + [file_to_save]\n",
        "    print(f\"Logging: Updated file directory - {file_output}\")\n",
        "    return file_output #gr.update(value=\"dog1.jpg\")\n",
        "\n",
        "def upload_file(file, file_output):\n",
        "    print(f\"Logging: all files available - {file_output}\")\n",
        "    print(f\"Logging: file uploaded is - {file}\")\n",
        "\n",
        "    img_orig_name = file.name.split('/')[-1]\n",
        "    shutil.copy2(file.name, img_orig_name)\n",
        "\n",
        "    file_output = [file] if file_output is None else file_output + [file]\n",
        "    file_output = [f.name for f in file_output]\n",
        "    print(f\"Logging: Updated file list is - {file_output}\")\n",
        "    return file_output"
      ]
    },
    {
      "cell_type": "code",
      "source": [
        "# How to use this Demo effectively\n",
        "howto = \"\"\"\n",
        "Welcome to the <b>ChatGPT-Plugins WebUI</b>, built using Gradio and Langchain! This interactive gradio chatbot uses the GPT3.5-turbo-0613 model from OpenAI and boasts the ability to USE, as well as BUILD Custom Plugins to enhance your chatbot experience.\n",
        "<br>Here’s a quick guide for you to get you started:<br><br>\n",
        "<b>To get Started</b>: Simply type your messages in the textbox to chat with ChatGPT and press enter!<br><br>\n",
        "<b>How to use Plugins</b>: Plugins are provided as checkboxes. If you want to try out a plugin just select that checkbox<br><br>\n",
        "\n",
        "- <b>DIFFUSERS PLUGIN:</b><br>\n",
        "<b>What it does:</b> Generates images based on your text prompt.<br>\n",
        "<b>How to use:</b> Type a prompt for the image you want to generate, and the Diffusers plugin will create it for you.<br>\n",
        "<b>Example input:</b> \"Generate an image of a sunset over the mountains.\"<br><br>\n",
        "\n",
        "- <b>IMAGE CAPTION PLUGIN:</b><br>\n",
        "<b>What it does:</b> Describes images that you upload.<br>\n",
        "<b>How to use:</b> Upload an image using the 'Upload' button. Ask ChatGPT to describe the image make sure to mention the image name to it.<br>\n",
        "<b>Example input:</b> \"Describe the image cat2.jpg.\"<br><br>\n",
        "\n",
        "- <b>NEWS PLUGIN:</b><br>\n",
        "<b>What it does:</b> Provides the top 3 news articles based on your search query.<br>\n",
        "<b>How to use:</b> Just type in a search query and the NewsAPI plugin will present the top 3 news based on relevance.<br>\n",
        "<b>Example input:</b> \"Show me the top news about space exploration.\"<br><br>\n",
        "\n",
        "- <b>SEARCH PLUGIN:</b><br>\n",
        "<b>What it does:</b> Searches internet for your queries. Now you don;t need to limit yourself to a knowledge cut-off of 2021<br>\n",
        "<b>How to use:</b> Type in a user message in the chatbot. Google Search plugin will search the internet and present a concise resuklt for you like magic!<br>\n",
        "<b>Example input:</b> \"Who is the current girlfriend of Leonardo Di Caprio.\"<br><br>\n",
        "\n",
        "- <b>BORED API PLUGIN:</b><br>\n",
        "<b>What it does:</b> Suggests you activities of different types.<br>\n",
        "<b>How to use:</b> Mention that you are bored and want some activities to do or simply ask to generate an activity.<br>\n",
        "<b>Example input:</b> \"Can you suggest me something to do, I am totally bored.\"<br><br>\n",
        "\n",
        "Access Generated Content: Find all generated images in the Gradio Files component located below the input textbox.<br><br>\n",
        "Have Fun!: Explore and enjoy the versatile features of this <b>ChatGPT-Plugin WebUI</b>.<br>\n",
        "Now you’re all set to make the most of this ChatGPT demo. Happy chatting!\n",
        "\"\"\""
      ],
      "metadata": {
        "id": "YuAC5B0IoEEy"
      },
      "execution_count": 12,
      "outputs": []
    },
    {
      "cell_type": "code",
      "execution_count": 13,
      "metadata": {
        "id": "aMawKQUN1x1u"
      },
      "outputs": [],
      "source": [
        "# Guide to add new Plugins\n",
        "add_plugin_steps = \"\"\"\n",
        "## Steps to add new Plugins to your Langchain-Gradio ChatGPT PLUGIN WebUI\n",
        "\n",
        "1. **Acquire the API Endpoint**\n",
        "    - You need an API which you can query, and for this example let's consider using a The Bored API.\n",
        "    - **API Endpoint**: [https://www.boredapi.com/api/activity/?type=](https://www.boredapi.com/api/activity/?type=)\n",
        "\n",
        "2. **Create a Function to Query the API**\n",
        "    - You can access any Gradio demo as an API via the Gradio Python Client.\n",
        "    ```python\n",
        "    def bored_api(activity_type) -> str:\n",
        "      '''\n",
        "      Get a random activity to do based on the activity type.\n",
        "      '''\n",
        "      activity_type_list = [\"education\", \"recreational\", \"social\", \"diy\", \"charity\", \"cooking\", \"relaxation\", \"music\", \"busywork\"]\n",
        "      activity_type = activity_type.lower()\n",
        "      if activity_type not in activity_type_list:\n",
        "        activity_type = random.choice(activity_type_list)\n",
        "\n",
        "      api_url = \"https://www.boredapi.com/api/activity/?type=\" + activity_type\n",
        "      response = requests.get(\n",
        "          api_url\n",
        "          )\n",
        "      return response.json()['activity']\n",
        "    ```\n",
        "\n",
        "3. **Add Function definitions**\n",
        "    - Add the function definition to the `gpt_function_definitions.py` file (simply copy and paste). Don't forget to add function description in docstring.\n",
        "    - Add required imports\n",
        "    ```python\n",
        "    from gpt_function_definitions import generate_image, generate_caption, get_news, bored_api\n",
        "\n",
        "    ```\n",
        "\n",
        "4. **Add the function to the Tools list**\n",
        "    - Add a description - describe what your function does. Models like GPT3.5/4 support Function Calling. The OpenAI Functions Agent from Langchain is designed to work with these functions and models.\n",
        "    - Name - add a name of your function, don't include spaces\n",
        "\n",
        "    ```python\n",
        "    tools = [\n",
        "        #image generation\n",
        "        ...\n",
        "\n",
        "        # Describe an image\n",
        "        ...\n",
        "\n",
        "        # Get lattest top news\n",
        "        ...\n",
        "\n",
        "        # Bored Api\n",
        "        Tool.from_function(\n",
        "        func=bored_api,\n",
        "        name=\"bored_api\",\n",
        "        description=\"Get a random activity to do based on the activity type\"\n",
        "        # coroutine= ... <- you can specify an async method if desired as well\n",
        "        ),\n",
        "    ]\n",
        "    ```\n",
        "\n",
        "5. **Update the Chatbot Layout**\n",
        "    - Go to the Blocks Chatbot layout and add a new checkbox for your plugin as:\n",
        "    ```python\n",
        "    bored = gr.Checkbox(label=\"🙄bored\", value=False)\n",
        "    ```\n",
        "    - Add the new checkbox component (example - <i>bored</i>) to your submit and click events for your chatbot and to the predict function accordingly.\n",
        "    - And also to the `plugins` list in `predict`\n",
        "      ```python\n",
        "      plugins = [stable_diff, image_cap, top_news, search, bored]\n",
        "      ```\n",
        "\n",
        "**Thats it! you have added your own brand new CHATGPT Plugin for yourself. Go PLAY!!**\n",
        "\"\"\""
      ]
    },
    {
      "cell_type": "code",
      "source": [
        "\n",
        "second_headline = \"\"\"<h3 align=\"center\">🔥This Plugins WebUI is build using <a href=\"https://www.gradio.app/\" target=\"_blank\">Gradio</a>,\n",
        "<a href=\"https://python.langchain.com/docs/get_started/introduction.html\" target=\"_blank\">Langchain</a>,\n",
        "and ChatGPT <a href=\"https://openai.com/blog/function-calling-and-other-api-updates\" target=\"_blank\">Function Calling API</a>.\n",
        "You don't need an OPENAI API key to run this demo as Huggingface is provided one for the community use🙌</h1>\"\"\"\n",
        "\n",
        "#gr.HTML(\"\"\"<h3 align=\"center\">🔥This Plugins WebUI is built using Gradio, Langchain, and ChatGPT API. You don't need an OPENAI API key to run this demo as Huggingface is provided one for the community use🙌</h1>\"\"\")\n",
        "\n"
      ],
      "metadata": {
        "id": "1FJ9qQefGvGI"
      },
      "execution_count": 14,
      "outputs": []
    },
    {
      "cell_type": "code",
      "execution_count": 23,
      "metadata": {
        "colab": {
          "base_uri": "https://localhost:8080/",
          "height": 1000
        },
        "id": "eDihIC1l1x6-",
        "outputId": "f8c9814e-ef36-4fec-e3cc-655a7628ffef"
      },
      "outputs": [
        {
          "output_type": "stream",
          "name": "stdout",
          "text": [
            "Setting queue=True in a Colab notebook requires sharing enabled. Setting `share=True` (you can turn this off by setting `share=False` in `launch()` explicitly).\n",
            "\n",
            "Colab notebook detected. This cell will run indefinitely so that you can see errors and logs. To turn off, set debug=False in launch().\n",
            "Running on public URL: https://a9153601e40ae0bc46.gradio.live\n",
            "\n",
            "This share link expires in 72 hours. For free permanent hosting and GPU upgrades, run `gradio deploy` from Terminal to deploy to Spaces (https://huggingface.co/spaces)\n"
          ]
        },
        {
          "output_type": "display_data",
          "data": {
            "text/plain": [
              "<IPython.core.display.HTML object>"
            ],
            "text/html": [
              "<div><iframe src=\"https://a9153601e40ae0bc46.gradio.live\" width=\"100%\" height=\"1000\" allow=\"autoplay; camera; microphone; clipboard-read; clipboard-write;\" frameborder=\"0\" allowfullscreen></iframe></div>"
            ]
          },
          "metadata": {}
        },
        {
          "output_type": "stream",
          "name": "stdout",
          "text": [
            "chatbot - []\n",
            "user_input - Who is the present CEO of Twitter? Are there any new competitors to Twitter?\n",
            "Logging: files in the file directory is -None\n",
            "No files available at the moment!\n",
            "messages list is - [SystemMessage(content='You are a helpful AI assistant', additional_kwargs={}), HumanMessage(content='Who is the present CEO of Twitter? Are there any new competitors to Twitter?', additional_kwargs={}, example=False)]\n",
            "Plugins are - [True, True, True, True, False]\n",
            "Total available PLUGINS/Tools are - [Tool(name='generate_image', description='generate an image based on the prompt provided', args_schema=None, return_direct=False, verbose=False, callbacks=None, callback_manager=None, tags=None, metadata=None, handle_tool_error=False, func=<function generate_image at 0x7f193c65ce50>, coroutine=None), Tool(name='generate_caption', description='generate caption for the image present at the filepath provided', args_schema=None, return_direct=False, verbose=False, callbacks=None, callback_manager=None, tags=None, metadata=None, handle_tool_error=False, func=<function generate_caption at 0x7f193c65cf70>, coroutine=None), Tool(name='get_news', description='get top three engilsh news items for a given query, sorted by relevancy', args_schema=None, return_direct=False, verbose=False, callbacks=None, callback_manager=None, tags=None, metadata=None, handle_tool_error=False, func=<function get_news at 0x7f193c65d000>, coroutine=None), Tool(name='Search', description='useful for when you need to answer questions about current events', args_schema=None, return_direct=False, verbose=False, callbacks=None, callback_manager=None, tags=None, metadata=None, handle_tool_error=False, func=<bound method SerpAPIWrapper.run of SerpAPIWrapper(search_engine=<class 'serpapi.google_search.GoogleSearch'>, params={'engine': 'google', 'google_domain': 'google.com', 'gl': 'us', 'hl': 'en'}, serpapi_api_key='e771e9e02fdace5cbc95249ec3dfa8ab32f9e378cf4c9ad080444c7c0e80b8a6', aiosession=None)>, coroutine=None), Tool(name='bored_api', description='Get a random activity to do based on the activity type', args_schema=None, return_direct=False, verbose=False, callbacks=None, callback_manager=None, tags=None, metadata=None, handle_tool_error=False, func=<function bored_api at 0x7f193c65d090>, coroutine=None)]\n",
            "PLUGINS/Tools enabled in this run are - [Tool(name='generate_image', description='generate an image based on the prompt provided', args_schema=None, return_direct=False, verbose=False, callbacks=None, callback_manager=None, tags=None, metadata=None, handle_tool_error=False, func=<function generate_image at 0x7f193c65ce50>, coroutine=None), Tool(name='generate_caption', description='generate caption for the image present at the filepath provided', args_schema=None, return_direct=False, verbose=False, callbacks=None, callback_manager=None, tags=None, metadata=None, handle_tool_error=False, func=<function generate_caption at 0x7f193c65cf70>, coroutine=None), Tool(name='get_news', description='get top three engilsh news items for a given query, sorted by relevancy', args_schema=None, return_direct=False, verbose=False, callbacks=None, callback_manager=None, tags=None, metadata=None, handle_tool_error=False, func=<function get_news at 0x7f193c65d000>, coroutine=None), Tool(name='Search', description='useful for when you need to answer questions about current events', args_schema=None, return_direct=False, verbose=False, callbacks=None, callback_manager=None, tags=None, metadata=None, handle_tool_error=False, func=<bound method SerpAPIWrapper.run of SerpAPIWrapper(search_engine=<class 'serpapi.google_search.GoogleSearch'>, params={'engine': 'google', 'google_domain': 'google.com', 'gl': 'us', 'hl': 'en'}, serpapi_api_key='e771e9e02fdace5cbc95249ec3dfa8ab32f9e378cf4c9ad080444c7c0e80b8a6', aiosession=None)>, coroutine=None)]\n",
            "\n",
            "\n",
            "\u001b[1m> Entering new  chain...\u001b[0m\n",
            "\u001b[32;1m\u001b[1;3m\n",
            "Invoking: `get_news` with `{'query': 'Twitter competitors'}`\n",
            "\n",
            "\n",
            "\u001b[0m\u001b[38;5;200m\u001b[1;3mFollowing list has the top three news items for the given search query : \n",
            "1.Twitter has yet another major lawsuit to contend with. A group of more than a dozen music publishers has filed\n",
            " a $250 million lawsuit against the company over allegations of “massive” copyright infringement on the platform.The suit, filed by the National Mu…\n",
            "2.Instagram's new Twitter-like app, called Threads, is now available for pre-order in the US App Store, and it will officially become available July 6.\n",
            "3.Snap-owned service has little to say, other than save or delete your stuff.\u001b[0m\u001b[32;1m\u001b[1;3mThe present CEO of Twitter is Jack Dorsey. As for new competitors to Twitter, Instagram's new app called Threads is being considered a competitor. Additionally, Snapchat, which is owned by Snap Inc., is also seen as a potential competitor to Twitter.\u001b[0m\n",
            "\n",
            "\u001b[1m> Finished chain.\u001b[0m\n",
            "function_response is - The present CEO of Twitter is Jack Dorsey. As for new competitors to Twitter, Instagram's new app called Threads is being considered a competitor. Additionally, Snapchat, which is owned by Snap Inc., is also seen as a potential competitor to Twitter.\n",
            "bot_message - The present CEO of Twitter is Jack Dorsey. As for new competitors to Twitter, Instagram's new app called Threads is being considered a competitor. Additionally, Snapchat, which is owned by Snap Inc., is also seen as a potential competitor to Twitter.\n",
            "chatbot - [['Who is the present CEO of Twitter? Are there any new competitors to Twitter?', \"The present CEO of Twitter is Jack Dorsey. As for new competitors to Twitter, Instagram's new app called Threads is being considered a competitor. Additionally, Snapchat, which is owned by Snap Inc., is also seen as a potential competitor to Twitter.\"]]\n",
            "user_input - Who is the present CEO of Twitter? Are there any new competitors to Twitter?\n",
            "Logging: files in the file directory is -None\n",
            "No files available at the moment!\n",
            "messages list is - [SystemMessage(content='You are a helpful AI assistant', additional_kwargs={}), HumanMessage(content='Who is the present CEO of Twitter? Are there any new competitors to Twitter?', additional_kwargs={}, example=False), AIMessage(content=\"The present CEO of Twitter is Jack Dorsey. As for new competitors to Twitter, Instagram's new app called Threads is being considered a competitor. Additionally, Snapchat, which is owned by Snap Inc., is also seen as a potential competitor to Twitter.\", additional_kwargs={}, example=False), HumanMessage(content='Who is the present CEO of Twitter? Are there any new competitors to Twitter?', additional_kwargs={}, example=False)]\n",
            "Plugins are - [True, True, False, True, False]\n",
            "Total available PLUGINS/Tools are - [Tool(name='generate_image', description='generate an image based on the prompt provided', args_schema=None, return_direct=False, verbose=False, callbacks=None, callback_manager=None, tags=None, metadata=None, handle_tool_error=False, func=<function generate_image at 0x7f193c65ce50>, coroutine=None), Tool(name='generate_caption', description='generate caption for the image present at the filepath provided', args_schema=None, return_direct=False, verbose=False, callbacks=None, callback_manager=None, tags=None, metadata=None, handle_tool_error=False, func=<function generate_caption at 0x7f193c65cf70>, coroutine=None), Tool(name='get_news', description='get top three engilsh news items for a given query, sorted by relevancy', args_schema=None, return_direct=False, verbose=False, callbacks=None, callback_manager=None, tags=None, metadata=None, handle_tool_error=False, func=<function get_news at 0x7f193c65d000>, coroutine=None), Tool(name='Search', description='useful for when you need to answer questions about current events', args_schema=None, return_direct=False, verbose=False, callbacks=None, callback_manager=None, tags=None, metadata=None, handle_tool_error=False, func=<bound method SerpAPIWrapper.run of SerpAPIWrapper(search_engine=<class 'serpapi.google_search.GoogleSearch'>, params={'engine': 'google', 'google_domain': 'google.com', 'gl': 'us', 'hl': 'en'}, serpapi_api_key='e771e9e02fdace5cbc95249ec3dfa8ab32f9e378cf4c9ad080444c7c0e80b8a6', aiosession=None)>, coroutine=None), Tool(name='bored_api', description='Get a random activity to do based on the activity type', args_schema=None, return_direct=False, verbose=False, callbacks=None, callback_manager=None, tags=None, metadata=None, handle_tool_error=False, func=<function bored_api at 0x7f193c65d090>, coroutine=None)]\n",
            "PLUGINS/Tools enabled in this run are - [Tool(name='generate_image', description='generate an image based on the prompt provided', args_schema=None, return_direct=False, verbose=False, callbacks=None, callback_manager=None, tags=None, metadata=None, handle_tool_error=False, func=<function generate_image at 0x7f193c65ce50>, coroutine=None), Tool(name='generate_caption', description='generate caption for the image present at the filepath provided', args_schema=None, return_direct=False, verbose=False, callbacks=None, callback_manager=None, tags=None, metadata=None, handle_tool_error=False, func=<function generate_caption at 0x7f193c65cf70>, coroutine=None), Tool(name='Search', description='useful for when you need to answer questions about current events', args_schema=None, return_direct=False, verbose=False, callbacks=None, callback_manager=None, tags=None, metadata=None, handle_tool_error=False, func=<bound method SerpAPIWrapper.run of SerpAPIWrapper(search_engine=<class 'serpapi.google_search.GoogleSearch'>, params={'engine': 'google', 'google_domain': 'google.com', 'gl': 'us', 'hl': 'en'}, serpapi_api_key='e771e9e02fdace5cbc95249ec3dfa8ab32f9e378cf4c9ad080444c7c0e80b8a6', aiosession=None)>, coroutine=None)]\n",
            "\n",
            "\n",
            "\u001b[1m> Entering new  chain...\u001b[0m\n",
            "\u001b[32;1m\u001b[1;3m\n",
            "Invoking: `Search` with `current CEO of Twitter`\n",
            "\n",
            "\n",
            "\u001b[0m\u001b[38;5;200m\u001b[1;3mLinda Yaccarino\u001b[0m\u001b[32;1m\u001b[1;3m\n",
            "Invoking: `Search` with `new competitors to Twitter`\n",
            "\n",
            "\n",
            "\u001b[0m\u001b[38;5;200m\u001b[1;3mRelated Stories\u001b[0m\u001b[32;1m\u001b[1;3m\n",
            "Invoking: `Search` with `new competitors of Twitter`\n",
            "\n",
            "\n",
            "\u001b[0m\u001b[38;5;200m\u001b[1;3mAlternatives to Twitter\u001b[0m\u001b[32;1m\u001b[1;3mThe present CEO of Twitter is Jack Dorsey. As for new competitors to Twitter, some alternatives include:\n",
            "\n",
            "1. Mastodon: Mastodon is an open-source social networking platform that focuses on decentralization and privacy.\n",
            "\n",
            "2. Parler: Parler is a social media platform that gained popularity as an alternative to Twitter, particularly among conservative users.\n",
            "\n",
            "3. Gab: Gab is another social media platform that positions itself as a free speech alternative to Twitter.\n",
            "\n",
            "4. MeWe: MeWe is a privacy-focused social network that emphasizes data protection and user control.\n",
            "\n",
            "5. Minds: Minds is a blockchain-based social media platform that rewards users for their activity and engagement.\n",
            "\n",
            "It's worth noting that the popularity and success of these platforms may vary, and Twitter remains one of the leading social media platforms globally.\u001b[0m\n",
            "\n",
            "\u001b[1m> Finished chain.\u001b[0m\n",
            "function_response is - The present CEO of Twitter is Jack Dorsey. As for new competitors to Twitter, some alternatives include:\n",
            "\n",
            "1. Mastodon: Mastodon is an open-source social networking platform that focuses on decentralization and privacy.\n",
            "\n",
            "2. Parler: Parler is a social media platform that gained popularity as an alternative to Twitter, particularly among conservative users.\n",
            "\n",
            "3. Gab: Gab is another social media platform that positions itself as a free speech alternative to Twitter.\n",
            "\n",
            "4. MeWe: MeWe is a privacy-focused social network that emphasizes data protection and user control.\n",
            "\n",
            "5. Minds: Minds is a blockchain-based social media platform that rewards users for their activity and engagement.\n",
            "\n",
            "It's worth noting that the popularity and success of these platforms may vary, and Twitter remains one of the leading social media platforms globally.\n",
            "bot_message - The present CEO of Twitter is Jack Dorsey. As for new competitors to Twitter, some alternatives include:\n",
            "\n",
            "1. Mastodon: Mastodon is an open-source social networking platform that focuses on decentralization and privacy.\n",
            "\n",
            "2. Parler: Parler is a social media platform that gained popularity as an alternative to Twitter, particularly among conservative users.\n",
            "\n",
            "3. Gab: Gab is another social media platform that positions itself as a free speech alternative to Twitter.\n",
            "\n",
            "4. MeWe: MeWe is a privacy-focused social network that emphasizes data protection and user control.\n",
            "\n",
            "5. Minds: Minds is a blockchain-based social media platform that rewards users for their activity and engagement.\n",
            "\n",
            "It's worth noting that the popularity and success of these platforms may vary, and Twitter remains one of the leading social media platforms globally.\n",
            "chatbot - [['Who is the present CEO of Twitter? Are there any new competitors to Twitter?', \"The present CEO of Twitter is Jack Dorsey. As for new competitors to Twitter, Instagram's new app called Threads is being considered a competitor. Additionally, Snapchat, which is owned by Snap Inc., is also seen as a potential competitor to Twitter.\"], ['Who is the present CEO of Twitter? Are there any new competitors to Twitter?', \"The present CEO of Twitter is Jack Dorsey. As for new competitors to Twitter, some alternatives include:\\n\\n1. Mastodon: Mastodon is an open-source social networking platform that focuses on decentralization and privacy.\\n\\n2. Parler: Parler is a social media platform that gained popularity as an alternative to Twitter, particularly among conservative users.\\n\\n3. Gab: Gab is another social media platform that positions itself as a free speech alternative to Twitter.\\n\\n4. MeWe: MeWe is a privacy-focused social network that emphasizes data protection and user control.\\n\\n5. Minds: Minds is a blockchain-based social media platform that rewards users for their activity and engagement.\\n\\nIt's worth noting that the popularity and success of these platforms may vary, and Twitter remains one of the leading social media platforms globally.\"]]\n",
            "user_input - no it is Linda Yaccarino\n",
            "Logging: files in the file directory is -None\n",
            "No files available at the moment!\n",
            "messages list is - [SystemMessage(content='You are a helpful AI assistant', additional_kwargs={}), HumanMessage(content='Who is the present CEO of Twitter? Are there any new competitors to Twitter?', additional_kwargs={}, example=False), AIMessage(content=\"The present CEO of Twitter is Jack Dorsey. As for new competitors to Twitter, Instagram's new app called Threads is being considered a competitor. Additionally, Snapchat, which is owned by Snap Inc., is also seen as a potential competitor to Twitter.\", additional_kwargs={}, example=False), HumanMessage(content='Who is the present CEO of Twitter? Are there any new competitors to Twitter?', additional_kwargs={}, example=False), AIMessage(content=\"The present CEO of Twitter is Jack Dorsey. As for new competitors to Twitter, some alternatives include:\\n\\n1. Mastodon: Mastodon is an open-source social networking platform that focuses on decentralization and privacy.\\n\\n2. Parler: Parler is a social media platform that gained popularity as an alternative to Twitter, particularly among conservative users.\\n\\n3. Gab: Gab is another social media platform that positions itself as a free speech alternative to Twitter.\\n\\n4. MeWe: MeWe is a privacy-focused social network that emphasizes data protection and user control.\\n\\n5. Minds: Minds is a blockchain-based social media platform that rewards users for their activity and engagement.\\n\\nIt's worth noting that the popularity and success of these platforms may vary, and Twitter remains one of the leading social media platforms globally.\", additional_kwargs={}, example=False), HumanMessage(content='no it is Linda Yaccarino', additional_kwargs={}, example=False)]\n",
            "Plugins are - [True, True, False, True, False]\n",
            "Total available PLUGINS/Tools are - [Tool(name='generate_image', description='generate an image based on the prompt provided', args_schema=None, return_direct=False, verbose=False, callbacks=None, callback_manager=None, tags=None, metadata=None, handle_tool_error=False, func=<function generate_image at 0x7f193c65ce50>, coroutine=None), Tool(name='generate_caption', description='generate caption for the image present at the filepath provided', args_schema=None, return_direct=False, verbose=False, callbacks=None, callback_manager=None, tags=None, metadata=None, handle_tool_error=False, func=<function generate_caption at 0x7f193c65cf70>, coroutine=None), Tool(name='get_news', description='get top three engilsh news items for a given query, sorted by relevancy', args_schema=None, return_direct=False, verbose=False, callbacks=None, callback_manager=None, tags=None, metadata=None, handle_tool_error=False, func=<function get_news at 0x7f193c65d000>, coroutine=None), Tool(name='Search', description='useful for when you need to answer questions about current events', args_schema=None, return_direct=False, verbose=False, callbacks=None, callback_manager=None, tags=None, metadata=None, handle_tool_error=False, func=<bound method SerpAPIWrapper.run of SerpAPIWrapper(search_engine=<class 'serpapi.google_search.GoogleSearch'>, params={'engine': 'google', 'google_domain': 'google.com', 'gl': 'us', 'hl': 'en'}, serpapi_api_key='e771e9e02fdace5cbc95249ec3dfa8ab32f9e378cf4c9ad080444c7c0e80b8a6', aiosession=None)>, coroutine=None), Tool(name='bored_api', description='Get a random activity to do based on the activity type', args_schema=None, return_direct=False, verbose=False, callbacks=None, callback_manager=None, tags=None, metadata=None, handle_tool_error=False, func=<function bored_api at 0x7f193c65d090>, coroutine=None)]\n",
            "PLUGINS/Tools enabled in this run are - [Tool(name='generate_image', description='generate an image based on the prompt provided', args_schema=None, return_direct=False, verbose=False, callbacks=None, callback_manager=None, tags=None, metadata=None, handle_tool_error=False, func=<function generate_image at 0x7f193c65ce50>, coroutine=None), Tool(name='generate_caption', description='generate caption for the image present at the filepath provided', args_schema=None, return_direct=False, verbose=False, callbacks=None, callback_manager=None, tags=None, metadata=None, handle_tool_error=False, func=<function generate_caption at 0x7f193c65cf70>, coroutine=None), Tool(name='Search', description='useful for when you need to answer questions about current events', args_schema=None, return_direct=False, verbose=False, callbacks=None, callback_manager=None, tags=None, metadata=None, handle_tool_error=False, func=<bound method SerpAPIWrapper.run of SerpAPIWrapper(search_engine=<class 'serpapi.google_search.GoogleSearch'>, params={'engine': 'google', 'google_domain': 'google.com', 'gl': 'us', 'hl': 'en'}, serpapi_api_key='e771e9e02fdace5cbc95249ec3dfa8ab32f9e378cf4c9ad080444c7c0e80b8a6', aiosession=None)>, coroutine=None)]\n",
            "\n",
            "\n",
            "\u001b[1m> Entering new  chain...\u001b[0m\n",
            "\u001b[32;1m\u001b[1;3mI apologize for the mistake. You're correct, the name is Linda Yaccarino. Thank you for correcting me.\u001b[0m\n",
            "\n",
            "\u001b[1m> Finished chain.\u001b[0m\n",
            "function_response is - I apologize for the mistake. You're correct, the name is Linda Yaccarino. Thank you for correcting me.\n",
            "bot_message - I apologize for the mistake. You're correct, the name is Linda Yaccarino. Thank you for correcting me.\n",
            "chatbot - [['Who is the present CEO of Twitter? Are there any new competitors to Twitter?', \"The present CEO of Twitter is Jack Dorsey. As for new competitors to Twitter, Instagram's new app called Threads is being considered a competitor. Additionally, Snapchat, which is owned by Snap Inc., is also seen as a potential competitor to Twitter.\"], ['Who is the present CEO of Twitter? Are there any new competitors to Twitter?', \"The present CEO of Twitter is Jack Dorsey. As for new competitors to Twitter, some alternatives include:\\n\\n1. Mastodon: Mastodon is an open-source social networking platform that focuses on decentralization and privacy.\\n\\n2. Parler: Parler is a social media platform that gained popularity as an alternative to Twitter, particularly among conservative users.\\n\\n3. Gab: Gab is another social media platform that positions itself as a free speech alternative to Twitter.\\n\\n4. MeWe: MeWe is a privacy-focused social network that emphasizes data protection and user control.\\n\\n5. Minds: Minds is a blockchain-based social media platform that rewards users for their activity and engagement.\\n\\nIt's worth noting that the popularity and success of these platforms may vary, and Twitter remains one of the leading social media platforms globally.\"], ['no it is Linda Yaccarino', \"I apologize for the mistake. You're correct, the name is Linda Yaccarino. Thank you for correcting me.\"]]\n",
            "user_input - so who is the ceo of twitter currently?\n",
            "Logging: files in the file directory is -None\n",
            "No files available at the moment!\n",
            "messages list is - [SystemMessage(content='You are a helpful AI assistant', additional_kwargs={}), HumanMessage(content='Who is the present CEO of Twitter? Are there any new competitors to Twitter?', additional_kwargs={}, example=False), AIMessage(content=\"The present CEO of Twitter is Jack Dorsey. As for new competitors to Twitter, Instagram's new app called Threads is being considered a competitor. Additionally, Snapchat, which is owned by Snap Inc., is also seen as a potential competitor to Twitter.\", additional_kwargs={}, example=False), HumanMessage(content='Who is the present CEO of Twitter? Are there any new competitors to Twitter?', additional_kwargs={}, example=False), AIMessage(content=\"The present CEO of Twitter is Jack Dorsey. As for new competitors to Twitter, some alternatives include:\\n\\n1. Mastodon: Mastodon is an open-source social networking platform that focuses on decentralization and privacy.\\n\\n2. Parler: Parler is a social media platform that gained popularity as an alternative to Twitter, particularly among conservative users.\\n\\n3. Gab: Gab is another social media platform that positions itself as a free speech alternative to Twitter.\\n\\n4. MeWe: MeWe is a privacy-focused social network that emphasizes data protection and user control.\\n\\n5. Minds: Minds is a blockchain-based social media platform that rewards users for their activity and engagement.\\n\\nIt's worth noting that the popularity and success of these platforms may vary, and Twitter remains one of the leading social media platforms globally.\", additional_kwargs={}, example=False), HumanMessage(content='no it is Linda Yaccarino', additional_kwargs={}, example=False), AIMessage(content=\"I apologize for the mistake. You're correct, the name is Linda Yaccarino. Thank you for correcting me.\", additional_kwargs={}, example=False), HumanMessage(content='so who is the ceo of twitter currently?', additional_kwargs={}, example=False)]\n",
            "Plugins are - [True, True, False, True, False]\n",
            "Total available PLUGINS/Tools are - [Tool(name='generate_image', description='generate an image based on the prompt provided', args_schema=None, return_direct=False, verbose=False, callbacks=None, callback_manager=None, tags=None, metadata=None, handle_tool_error=False, func=<function generate_image at 0x7f193c65ce50>, coroutine=None), Tool(name='generate_caption', description='generate caption for the image present at the filepath provided', args_schema=None, return_direct=False, verbose=False, callbacks=None, callback_manager=None, tags=None, metadata=None, handle_tool_error=False, func=<function generate_caption at 0x7f193c65cf70>, coroutine=None), Tool(name='get_news', description='get top three engilsh news items for a given query, sorted by relevancy', args_schema=None, return_direct=False, verbose=False, callbacks=None, callback_manager=None, tags=None, metadata=None, handle_tool_error=False, func=<function get_news at 0x7f193c65d000>, coroutine=None), Tool(name='Search', description='useful for when you need to answer questions about current events', args_schema=None, return_direct=False, verbose=False, callbacks=None, callback_manager=None, tags=None, metadata=None, handle_tool_error=False, func=<bound method SerpAPIWrapper.run of SerpAPIWrapper(search_engine=<class 'serpapi.google_search.GoogleSearch'>, params={'engine': 'google', 'google_domain': 'google.com', 'gl': 'us', 'hl': 'en'}, serpapi_api_key='e771e9e02fdace5cbc95249ec3dfa8ab32f9e378cf4c9ad080444c7c0e80b8a6', aiosession=None)>, coroutine=None), Tool(name='bored_api', description='Get a random activity to do based on the activity type', args_schema=None, return_direct=False, verbose=False, callbacks=None, callback_manager=None, tags=None, metadata=None, handle_tool_error=False, func=<function bored_api at 0x7f193c65d090>, coroutine=None)]\n",
            "PLUGINS/Tools enabled in this run are - [Tool(name='generate_image', description='generate an image based on the prompt provided', args_schema=None, return_direct=False, verbose=False, callbacks=None, callback_manager=None, tags=None, metadata=None, handle_tool_error=False, func=<function generate_image at 0x7f193c65ce50>, coroutine=None), Tool(name='generate_caption', description='generate caption for the image present at the filepath provided', args_schema=None, return_direct=False, verbose=False, callbacks=None, callback_manager=None, tags=None, metadata=None, handle_tool_error=False, func=<function generate_caption at 0x7f193c65cf70>, coroutine=None), Tool(name='Search', description='useful for when you need to answer questions about current events', args_schema=None, return_direct=False, verbose=False, callbacks=None, callback_manager=None, tags=None, metadata=None, handle_tool_error=False, func=<bound method SerpAPIWrapper.run of SerpAPIWrapper(search_engine=<class 'serpapi.google_search.GoogleSearch'>, params={'engine': 'google', 'google_domain': 'google.com', 'gl': 'us', 'hl': 'en'}, serpapi_api_key='e771e9e02fdace5cbc95249ec3dfa8ab32f9e378cf4c9ad080444c7c0e80b8a6', aiosession=None)>, coroutine=None)]\n",
            "\n",
            "\n",
            "\u001b[1m> Entering new  chain...\u001b[0m\n",
            "\u001b[32;1m\u001b[1;3m\n",
            "Invoking: `Search` with `{'query': 'current CEO of Twitter'}`\n",
            "\n",
            "\n",
            "\u001b[0m\u001b[38;5;200m\u001b[1;3mLinda Yaccarino\u001b[0mAn error occured while calling agents using 'Function Calling': That model is currently overloaded with other requests. You can retry your request, or contact us through our help center at help.openai.com if the error persists. (Please include the request ID 9d330205f4697e6f7922710623bd9b4a in your message.) (Error occurred while streaming.)\n",
            "gpt_response - content=\"I apologize for the incorrect information earlier. As of my last update, Jack Dorsey is the CEO of Twitter. However, please note that executive positions can change over time, so it's always a good idea to verify the latest information.\" additional_kwargs={} example=False\n",
            "bot_message - I apologize for the incorrect information earlier. As of my last update, Jack Dorsey is the CEO of Twitter. However, please note that executive positions can change over time, so it's always a good idea to verify the latest information.\n",
            "Keyboard interruption in main thread... closing server.\n",
            "Killing tunnel 127.0.0.1:7863 <> https://a9153601e40ae0bc46.gradio.live\n"
          ]
        },
        {
          "output_type": "execute_result",
          "data": {
            "text/plain": []
          },
          "metadata": {},
          "execution_count": 23
        }
      ],
      "source": [
        "# Gradio block\n",
        "with gr.Blocks(css = \"\"\"#col_container { margin-left: auto; margin-right: auto;}\n",
        "                #chatbot {height: 520px; overflow: auto;}\"\"\") as demo:\n",
        "\n",
        "    gr.HTML('<h1 align=\"center\">🚀ChatGPT-Plugins🧩 WebUI using Langchain & Gradio</h1>')\n",
        "    gr.HTML(second_headline)\n",
        "    gr.HTML('''<center><a href=\"https://huggingface.co/spaces/ysharma/ChatGPT-Plugins-UI-with-Langchain?duplicate=true\"><img src=\"https://bit.ly/3gLdBN6\" alt=\"Duplicate Space\"></a>Duplicate the Space and run securely with your OpenAI API Key</center>''')\n",
        "\n",
        "    with gr.Accordion(\"Follow these Steps to use the Gradio WebUI OR simply Click any of the given Examples! \", open=False):\n",
        "      gr.HTML(howto)\n",
        "    with gr.Accordion(\"What is happening?\", open=False):\n",
        "      gr.HTML(messaging)\n",
        "\n",
        "    gr.HTML(\"\"\"Bonus! Steps to build and add your own ChatGPT Plugins to the WebUI using Langchain : <a href=\"https://huggingface.co/spaces/ysharma/ChatGPT-Plugins-UI-with-Langchain/blob/main/README.md\" target=\"_blank\">Add new Plugins to ChatGPT WebUI in 5 mins!!</a>\"\"\")\n",
        "\n",
        "    with gr.Row():\n",
        "      with gr.Column():\n",
        "        openai_api_key_tb = gr.Textbox(label=\"Enter your OpenAI API key here\",\n",
        "                                         value=\"🎁ChatGPT Keys are provided by HuggingFace for Free🥳 You don't need to enter yours!😉🙌\",\n",
        "                                         container=False)\n",
        "        #plugin_message = gr.HTML()\n",
        "\n",
        "        with gr.Accordion(\"Plugins🛠️ Available\",open=True):\n",
        "          with gr.Row():\n",
        "            stable_diff = gr.Checkbox(label=\"🖼️Diffusers\", value=False)\n",
        "            image_cap = gr.Checkbox(label=\"🎨Describe Image\", value=False)\n",
        "            top_news = gr.Checkbox(label=\"📰News\", value=False)\n",
        "            google_search = gr.Checkbox(label=\"🌐Google Search\", value=False)\n",
        "            bored = gr.Checkbox(label=\"🙄Bored API\", value=False)\n",
        "            #music_gen = gr.Checkbox(label=\"🎵MusicGen\", value=False)\n",
        "            #texttospeech = gr.Checkbox(label=\"📝🗣️Text-To-Speech\", value=False)\n",
        "            #gr.CheckboxGroup([\"🎵MusicGen\", \"🖼️Diffusers\", \"🎨Describe Image\", \"📰News\", \"📝🗣️Text-To-Speech\" ], label=\"Plug-ins\", info=\"enhance your ChatGPT experience using Plugins : Powered by Gradio!\")\n",
        "\n",
        "      with gr.Column():\n",
        "        gen_image = gr.Image(label=\"generated image\", type=\"filepath\", interactive=False)\n",
        "\n",
        "    with gr.Row():\n",
        "        chatbot = gr.Chatbot(elem_id='chatbot')\n",
        "\n",
        "    with gr.Row():\n",
        "      with gr.Column(scale=0.70):\n",
        "        inputs = gr.Textbox(placeholder= \"Hi there!\", label= \"Type an input and press Enter\")\n",
        "      with gr.Column(scale=0.15, min_width=0):\n",
        "          b1 = gr.Button(\"🏃Run\")\n",
        "      with gr.Column(scale=0.15, min_width=0):\n",
        "          btn = gr.UploadButton(\"📁Upload\", file_types=[\"image\", \"audio\"],  file_count=\"single\")\n",
        "\n",
        "    with gr.Row():\n",
        "      with gr.Accordion(\"Parameters\", open=False):\n",
        "        top_p = gr.Slider( minimum=-0, maximum=1.0, value=1.0, step=0.05, interactive=True, label=\"Top-p (nucleus sampling)\",)\n",
        "        temperature = gr.Slider( minimum=-0, maximum=5.0, value=1.0, step=0.1, interactive=True, label=\"Temperature\",)\n",
        "      with gr.Accordion(\"Available Files\", open=False):\n",
        "        file_output = gr.File(file_count=\"multiple\", file_types=[\"image\", \"audio\"], label=\"Files Available\")\n",
        "\n",
        "    inputs.submit( predict,\n",
        "                  [inputs, temperature, stable_diff, image_cap, top_news, google_search, bored, file_output, chatbot],\n",
        "                   [inputs, chatbot, gen_image ])\n",
        "    b1.click( predict,\n",
        "            [inputs, temperature, stable_diff, image_cap, top_news, google_search, bored, file_output, chatbot],\n",
        "             [inputs, chatbot, gen_image ])\n",
        "\n",
        "\n",
        "    btn.upload(upload_file, [btn, file_output], file_output)\n",
        "    gen_image.change(add_image, [gen_image, file_output], file_output)\n",
        "    #gen_audio.change(add_audio, [gen_audio, file_output], file_output)\n",
        "\n",
        "    gr.HTML(\"<br><br>\")\n",
        "    gr.Examples(label = \"To get started quickly - Click on any example below and press Enter/Run:\",\n",
        "        examples = [[\"What is the latest top news on Inflation in Europe\", 1.0, False, False, True, False, False, None],\n",
        "                    [\"What is Europe's stand on the ongoing generative AI revolution?\", 1.0, False, False, False, True, False, None],\n",
        "                    [\"Write a very short poem on 'sparkling water'\", 1.0, False, False, False, False, False, None],\n",
        "                    [\"What is the weather in LA and SF?\", 1.0, False, False, False, True, False, None],\n",
        "                    [\"generate an image of a puppy\", 1.0, True, False, False, False, False,None],\n",
        "                    [\"generate a caption for the image cat2.jpg\", 1.0, False, True, False, False, False, \"cat2.jpg\"],\n",
        "                    [\"Who is the present CEO of Twitter? Are there any new competitors to Twitter?\", 1.0, True, True, True, True, False, None],\n",
        "                    [\"Can you suggest me something to do, I am totally bored\", 1.0, False, False, False, False, True, None]\n",
        "                    ],\n",
        "        inputs = [inputs, temperature, stable_diff, image_cap, top_news, google_search, bored, file_output]\n",
        "    )\n",
        "\n",
        "    with gr.Accordion(\"Use Langchain to build and add your own Plugins to this ChatGPT WebUI\", open=False ):\n",
        "      gr.Markdown(add_plugin_steps)\n",
        "\n",
        "demo.queue().launch(debug=True, height = '1000')"
      ]
    },
    {
      "cell_type": "code",
      "source": [],
      "metadata": {
        "id": "i1pjhMeST0lx"
      },
      "execution_count": null,
      "outputs": []
    }
  ],
  "metadata": {
    "colab": {
      "provenance": [],
      "include_colab_link": true
    },
    "kernelspec": {
      "display_name": "Python 3",
      "name": "python3"
    },
    "language_info": {
      "name": "python"
    }
  },
  "nbformat": 4,
  "nbformat_minor": 0
}